# %% [markdown]
# # Importa as bibliotecas numpy e malplotlib

# %%
import numpy as np
import matplotlib.pyplot as plt

# %% [markdown]
# ## Define a função que calcula as coordenadas xyz
# dadas pelas equações:
# $$
# \begin{aligned}
# \dot{x} & = \sigma(y-x) \\
# \dot{y} & = \rho x - y - xz \\
# \dot{z} & = -\beta z + xy
# \end{aligned}
# $$
# 

# %%
def lorenz(xyz,sigma=10,rho=28,beta=2.667):
    
    x, y, z = xyz
    
    dx = sigma * (y - x)
    dy = x * (rho - z) - y
    dz = (x * y) - (beta * z)
    
    return np.array([dx, dy, dz])
    
dt = 0.01
num_steps = 10000
    
#inicializa um array vazio de num_steps univadades
xyzs = np.empty((num_steps + 1, 3))  
xyzs[0] = (1, 1, 1)  # inicializa os valores
#Passa pelo array inserindo os valores em suas respectivas posições
for i in range(num_steps):
    xyzs[i + 1] = xyzs[i] + lorenz(xyzs[i]) * dt


# %% [markdown]
# # Plota a figura

# %%
ax = plt.figure().add_subplot(projection='3d')

ax.plot(*xyzs.T, lw=0.35)
ax.set_xlabel("X Axis")
ax.set_ylabel("Y Axis")
ax.set_zlabel("Z Axis")
ax.set_title("Atrator de Lorenz")

plt.show()

# %%


# %%


# %%



